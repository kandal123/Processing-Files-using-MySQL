{
 "cells": [
  {
   "cell_type": "markdown",
   "metadata": {},
   "source": [
    "# TASK ASSIGNED: \n",
    "**Make Folders named Processing,queue and processed and Write a code that makes a file(txt) every second in the Processing folder,\n",
    "picks up all the files from processing and moves all the files to queue every 5 seconds. \n",
    "It then picks files from the queue folder and updates a column in MySQL/mongoDB table as 0/1 and \n",
    "moves the file to the Processed folder Also, make sure that no files are moved from Processing to queue \n",
    "until the queue folder is empty.**"
   ]
  },
  {
   "cell_type": "code",
   "execution_count": null,
   "metadata": {},
   "outputs": [],
   "source": [
    "!pip install pymysql"
   ]
  },
  {
   "cell_type": "markdown",
   "metadata": {},
   "source": [
    "# Importing the required libraries"
   ]
  },
  {
   "cell_type": "code",
   "execution_count": null,
   "metadata": {},
   "outputs": [],
   "source": [
    "import shutil\n",
    "import os\n",
    "import warnings\n",
    "import pymysql\n",
    "\n",
    "from time import sleep\n",
    "from threading import *\n",
    "\n",
    "warnings.filterwarnings('ignore')"
   ]
  },
  {
   "cell_type": "markdown",
   "metadata": {},
   "source": [
    "# Creating all the classes required for the problem statement!"
   ]
  },
  {
   "cell_type": "code",
   "execution_count": null,
   "metadata": {},
   "outputs": [],
   "source": [
    "class Folders:\n",
    "    def __init__(kandal):\n",
    "        kandal.Queue = \"Queue\"\n",
    "        kandal.Processing = \"Processing\"\n",
    "        kandal.Processed = \"Processed\"\n",
    "        con=pymysql.connect(host='localhost',user='root',password='',database='task')\n",
    "        cur=con.cursor()\n",
    "        cur.execute(\"delete from files\")\n",
    "        con.commit()\n",
    "        con.close()\n",
    "\n",
    "        if(os.path.exists(kandal.Queue)) and (os.path.exists(kandal.Processed)) and (os.path.exists(kandal.Processing)):\n",
    "            shutil.rmtree(kandal.Queue)\n",
    "            shutil.rmtree(kandal.Processing)\n",
    "            shutil.rmtree(kandal.Processed)\n",
    "            \n",
    "            os.mkdir(kandal.Queue)\n",
    "            os.mkdir(kandal.Processing)\n",
    "            os.mkdir(kandal.Processed)\n",
    "        else:\n",
    "            os.mkdir(kandal.Queue)\n",
    "            os.mkdir(kandal.Processing)\n",
    "            os.mkdir(kandal.Processed)"
   ]
  },
  {
   "cell_type": "code",
   "execution_count": null,
   "metadata": {},
   "outputs": [],
   "source": [
    "class Processing(Thread):\n",
    "    def run(kandal):\n",
    "        i = 1\n",
    "        while(True):\n",
    "            open(\"Processing/file_\"+str(i)+\".txt\",\"w\")\n",
    "            i += 1\n",
    "            sleep(1)\n"
   ]
  },
  {
   "cell_type": "code",
   "execution_count": null,
   "metadata": {},
   "outputs": [],
   "source": [
    "class Queue(Thread):\n",
    "    def run(kandal):\n",
    "        src = 'Processing'\n",
    "        dest = 'Queue'\n",
    "        while(True):\n",
    "            if len(os.listdir(src)) == 5: \n",
    "                for file in os.listdir(src):\n",
    "                    file_name = os.path.join(src, file)\n",
    "                    shutil.move(file_name, dest)\n",
    "                    \n",
    "        "
   ]
  },
  {
   "cell_type": "code",
   "execution_count": null,
   "metadata": {},
   "outputs": [],
   "source": [
    "class Processed(Thread):\n",
    "    def run(kandal):\n",
    "        dest = 'Processed'\n",
    "        src = 'Queue'\n",
    "       \n",
    "        while(True):\n",
    "            sleep(2)\n",
    "            if len(os.listdir(src)) != 0:\n",
    "                for file in os.listdir(src):\n",
    "                    con=pymysql.connect(host='localhost',user='root',password='',database='task')\n",
    "                    cur=con.cursor()\n",
    "                    cur.execute('insert into files values(%s,%s)',(file,1))\n",
    "                    con.commit()\n",
    "                    con.close()\n",
    "                    file_name = os.path.join(src, file)\n",
    "                    shutil.move(file_name, dest)\n"
   ]
  },
  {
   "cell_type": "markdown",
   "metadata": {},
   "source": [
    "# Creating object for the Folders' class and threads for Processing, Queue and Processed folders!"
   ]
  },
  {
   "cell_type": "code",
   "execution_count": null,
   "metadata": {
    "scrolled": true
   },
   "outputs": [],
   "source": [
    "f = Folders()\n",
    "\n",
    "Processing_thread = Processing()\n",
    "Queue_thread = Queue()\n",
    "Processed_thread = Processed()\n",
    "\n",
    "Processing_thread.start()\n",
    "Queue_thread.start()\n",
    "Processed_thread.start()"
   ]
  },
  {
   "cell_type": "markdown",
   "metadata": {},
   "source": [
    "# Thank you!"
   ]
  }
 ],
 "metadata": {
  "kernelspec": {
   "display_name": "Python 3 (ipykernel)",
   "language": "python",
   "name": "python3"
  },
  "language_info": {
   "codemirror_mode": {
    "name": "ipython",
    "version": 3
   },
   "file_extension": ".py",
   "mimetype": "text/x-python",
   "name": "python",
   "nbconvert_exporter": "python",
   "pygments_lexer": "ipython3",
   "version": "3.6.8"
  }
 },
 "nbformat": 4,
 "nbformat_minor": 2
}
